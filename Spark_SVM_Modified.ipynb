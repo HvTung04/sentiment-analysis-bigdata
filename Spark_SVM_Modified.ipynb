{
 "cells": [
  {
   "cell_type": "markdown",
   "metadata": {},
   "source": [
    "# Import thư viện"
   ]
  },
  {
   "cell_type": "code",
   "execution_count": 1,
   "metadata": {},
   "outputs": [],
   "source": [
    "# Import libraries\n",
    "from pyspark.sql import SparkSession\n",
    "from pyspark.ml.feature import Tokenizer, HashingTF, IDF\n",
    "from pyspark.ml.classification import LinearSVC\n",
    "from pyspark.ml.evaluation import MulticlassClassificationEvaluator\n",
    "from pyspark.mllib.evaluation import MulticlassMetrics\n",
    "from pyspark.ml.feature import CountVectorizer\n",
    "import time\n",
    "import re\n",
    "import os\n",
    "import random\n"
   ]
  },
  {
   "cell_type": "code",
   "execution_count": 2,
   "metadata": {},
   "outputs": [],
   "source": [
    "# Create Spark Session\n",
    "spark = SparkSession.builder \\\n",
    "    .appName(\"Modified Support Vector Machines\") \\\n",
    "    .master(\"local[*]\") \\\n",
    "    .getOrCreate()"
   ]
  },
  {
   "cell_type": "markdown",
   "metadata": {},
   "source": [
    "# Tiền xử lý"
   ]
  },
  {
   "cell_type": "code",
   "execution_count": 3,
   "metadata": {},
   "outputs": [],
   "source": [
    "# Preprocessing CSV file\n",
    "def split_csv(line):\n",
    "    columns = line.split(\",\")\n",
    "    if len(columns) > 4:\n",
    "        columns[3] = \",\".join(columns[3:])\n",
    "    return columns[:4]"
   ]
  },
  {
   "cell_type": "code",
   "execution_count": 4,
   "metadata": {},
   "outputs": [],
   "source": [
    "# Cleaning text\n",
    "def clean_text(text):\n",
    "    # Remove URLs using a comprehensive regex\n",
    "    text = re.sub(r'http[s]?://(?:[a-zA-Z]|[0-9]|[$-_@.&+]|[!*\\\\(\\\\),]|(?:%[0-9a-fA-F][0-9a-fA-F]))+', '', text)\n",
    "\n",
    "    # Remove excessive punctuation (multiple consecutive special characters)\n",
    "    text = re.sub(r'\\?{2,}', ' ', text)\n",
    "\n",
    "    # Remove numbers\n",
    "    text = re.sub(r'\\d+', '', text)\n",
    "\n",
    "    # Keep mentions and hashtags, remove other special characters\n",
    "    text = re.sub(r'[^\\w\\s@#]', '', text)\n",
    "\n",
    "    # Convert to lowercase\n",
    "    text = text.lower()\n",
    "\n",
    "    # Remove extra whitespace\n",
    "    text = re.sub(r'\\s+', ' ', text).strip()\n",
    "\n",
    "    return text"
   ]
  },
  {
   "cell_type": "markdown",
   "metadata": {},
   "source": [
    "# Đọc dữ liệu"
   ]
  },
  {
   "cell_type": "code",
   "execution_count": 5,
   "metadata": {},
   "outputs": [
    {
     "name": "stdout",
     "output_type": "stream",
     "text": [
      "Đường dẫn file: /home/jovyan/input/spark_input_10/tweets.csv\n"
     ]
    }
   ],
   "source": [
    "# Random số từ 1-10\n",
    "input_num = random.randint(1, 10)\n",
    "input_path = os.path.join(os.getcwd(), f\"input/spark_input_{input_num}/tweets.csv\")\n",
    "print(\"Đường dẫn file:\", input_path)"
   ]
  },
  {
   "cell_type": "code",
   "execution_count": 6,
   "metadata": {},
   "outputs": [
    {
     "name": "stdout",
     "output_type": "stream",
     "text": [
      "\n",
      "Thông tin về DataFrame:\n",
      "- Số lượng dòng: 1000000\n",
      "- Schema:\n",
      "root\n",
      " |-- label: double (nullable = false)\n",
      " |-- tweet: string (nullable = false)\n",
      "\n",
      "\n",
      "Mẫu 5 dòng đầu tiên:\n",
      "+-----+-----------------------------------------------------------------------------------------------------+\n",
      "|label|tweet                                                                                                |\n",
      "+-----+-----------------------------------------------------------------------------------------------------+\n",
      "|0.0  |is so sad for my apl friend                                                                          |\n",
      "|0.0  |i missed the new moon trailer                                                                        |\n",
      "|1.0  |omg its already o                                                                                    |\n",
      "|0.0  |omgaga im sooo im gunna cry ive been at this dentist since i was suposed just get a crown put on mins|\n",
      "|0.0  |i think mi bf is cheating on me t_t                                                                  |\n",
      "+-----+-----------------------------------------------------------------------------------------------------+\n",
      "only showing top 5 rows\n",
      "\n",
      "\n",
      "Phân bố nhãn sentiment:\n",
      "+-----+------+\n",
      "|label| count|\n",
      "+-----+------+\n",
      "|  0.0|468646|\n",
      "|  1.0|531354|\n",
      "+-----+------+\n",
      "\n"
     ]
    }
   ],
   "source": [
    "# Read data\n",
    "rdd = spark.sparkContext.textFile(input_path) \\\n",
    "    .map(split_csv) \\\n",
    "    .map(lambda columns: (\n",
    "        float(columns[1]),  # Sentiment\n",
    "        clean_text(columns[3])  # Tweet text cleaned\n",
    "    ))\n",
    "\n",
    "# Convert RDD to DataFrame\n",
    "from pyspark.sql.types import StructType, StructField, DoubleType, StringType\n",
    "schema = StructType([\n",
    "    StructField(\"label\", DoubleType(), False),\n",
    "    StructField(\"tweet\", StringType(), False)\n",
    "])\n",
    "\n",
    "df = spark.createDataFrame(rdd, schema)\n",
    "    \n",
    "# In ra một số thông tin về DataFrame để kiểm tra\n",
    "print(\"\\nThông tin về DataFrame:\")\n",
    "print(\"- Số lượng dòng:\", df.count())\n",
    "print(\"- Schema:\")\n",
    "df.printSchema()\n",
    "\n",
    "print(\"\\nMẫu 5 dòng đầu tiên:\")\n",
    "df.show(5, truncate=False)\n",
    "\n",
    "# Thống kê phân bố nhãn\n",
    "print(\"\\nPhân bố nhãn sentiment:\")\n",
    "df.groupBy(\"label\").count().orderBy(\"label\").show()\n"
   ]
  },
  {
   "cell_type": "code",
   "execution_count": 7,
   "metadata": {},
   "outputs": [],
   "source": [
    "# Áp dụng TF-IDF\n",
    "# 1. Tokenization\n",
    "tokenizer = Tokenizer(inputCol=\"tweet\", outputCol=\"words\")\n",
    "words_data = tokenizer.transform(df)\n",
    "\n",
    "# 2. TF (Term Frequency)\n",
    "# hashingTF = HashingTF(inputCol=\"words\", outputCol=\"rawFeatures\")\n",
    "cv = CountVectorizer(inputCol=\"words\", outputCol=\"rawFeatures\")\n",
    "cv_model = cv.fit(words_data)\n",
    "featurized_data = cv_model.transform(words_data)\n",
    "\n",
    "# 3. IDF\n",
    "# idf = IDF(inputCol=\"rawFeatures\", outputCol=\"features\")\n",
    "idf = IDF(inputCol=\"rawFeatures\", outputCol=\"features\", minDocFreq=5)\n",
    "idf_model = idf.fit(featurized_data)\n",
    "rescaled_data = idf_model.transform(featurized_data)"
   ]
  },
  {
   "cell_type": "code",
   "execution_count": 8,
   "metadata": {},
   "outputs": [
    {
     "name": "stdout",
     "output_type": "stream",
     "text": [
      "+-----+------------------------------------------------------------------------------------------------------------------------------+---------------------------------------------------------------------------------------------------------------------------------------------------------+-------------------------------------------------------------------------------------------------------------------------------------------------------------------------------------------+--------------------------------------------------------------------------------------------------------------------------------------------------------------------------------------------------------------------------------------------------------------------------------------------------------------------------------------------------------------------------------------------------------------------------------------------------------------------------------------------------------------------------------------------------+\n",
      "|label|tweet                                                                                                                         |words                                                                                                                                                    |rawFeatures                                                                                                                                                                                |features                                                                                                                                                                                                                                                                                                                                                                                                                                                                                                                                          |\n",
      "+-----+------------------------------------------------------------------------------------------------------------------------------+---------------------------------------------------------------------------------------------------------------------------------------------------------+-------------------------------------------------------------------------------------------------------------------------------------------------------------------------------------------+--------------------------------------------------------------------------------------------------------------------------------------------------------------------------------------------------------------------------------------------------------------------------------------------------------------------------------------------------------------------------------------------------------------------------------------------------------------------------------------------------------------------------------------------------+\n",
      "|0.0  |is so sad for my apl friend                                                                                                   |[is, so, sad, for, my, apl, friend]                                                                                                                      |(262144,[6,8,10,17,120,256,237099],[1.0,1.0,1.0,1.0,1.0,1.0,1.0])                                                                                                                          |(262144,[6,8,10,17,120,256,237099],[1.90139677974817,2.042570738903485,2.099996331027103,2.475381171123219,4.132296681650173,5.055058511648503,0.0])                                                                                                                                                                                                                                                                                                                                                                                              |\n",
      "|0.0  |i missed the new moon trailer                                                                                                 |[i, missed, the, new, moon, trailer]                                                                                                                     |(262144,[0,2,84,239,900,1505],[1.0,1.0,1.0,1.0,1.0,1.0])                                                                                                                                   |(262144,[0,2,84,239,900,1505],[0.9595359283914003,1.3556342540177815,3.8287404012909088,4.975510492120382,6.653114060608057,7.341620861611499])                                                                                                                                                                                                                                                                                                                                                                                                   |\n",
      "|1.0  |omg its already o                                                                                                             |[omg, its, already, o]                                                                                                                                   |(262144,[21,181,303,426],[1.0,1.0,1.0,1.0])                                                                                                                                                |(262144,[21,181,303,426],[2.689322679862728,4.683348967051615,5.2483859977993275,5.6487272689076224])                                                                                                                                                                                                                                                                                                                                                                                                                                             |\n",
      "|0.0  |omgaga im sooo im gunna cry ive been at this dentist since i was suposed just get a crown put on mins                         |[omgaga, im, sooo, im, gunna, cry, ive, been, at, this, dentist, since, i, was, suposed, just, get, a, crown, put, on, mins]                             |(262144,[0,3,11,15,19,23,24,28,31,86,124,277,318,454,540,908,1410,1459,6677,21372],[1.0,1.0,2.0,1.0,1.0,1.0,1.0,1.0,1.0,1.0,1.0,1.0,1.0,1.0,1.0,1.0,1.0,1.0,1.0,1.0])                      |(262144,[0,3,11,15,19,23,24,28,31,86,124,277,318,454,540,908,1410,1459,6677,21372],[0.9595359283914003,1.5750857960619378,4.3828588152574435,2.37085422716604,2.6140282130096653,2.757756283681377,2.7985723665628965,2.978895822363823,2.992797586901397,3.835109261659521,4.160677690911949,5.129082049302237,5.270119712188857,5.718389627045063,5.97009552137129,6.664810100371247,7.257313755151506,7.326306626638457,9.361164261710266,10.982298213907558])                                                                                 |\n",
      "|0.0  |i think mi bf is cheating on me t_t                                                                                           |[i, think, mi, bf, is, cheating, on, me, t_t]                                                                                                            |(262144,[0,8,13,15,68,1432,1736,4677,6393],[1.0,1.0,1.0,1.0,1.0,1.0,1.0,1.0,1.0])                                                                                                          |(262144,[0,8,13,15,68,1432,1736,4677,6393],[0.9595359283914003,2.042570738903485,2.351545271445087,2.37085422716604,3.5794522228398065,7.265860815729964,7.561682746388301,8.902856672227722,9.315701887633509])                                                                                                                                                                                                                                                                                                                                  |\n",
      "|0.0  |or i just worry too much                                                                                                      |[or, i, just, worry, too, much]                                                                                                                          |(262144,[0,19,39,82,93,701],[1.0,1.0,1.0,1.0,1.0,1.0])                                                                                                                                     |(262144,[0,19,39,82,93,701],[0.9595359283914003,2.6140282130096653,3.115508291890668,3.7910460788747433,3.889284518458157,6.293652305762144])                                                                                                                                                                                                                                                                                                                                                                                                     |\n",
      "|1.0  |juuuuuuuuuuuuuuuuussssst chillin                                                                                              |[juuuuuuuuuuuuuuuuussssst, chillin]                                                                                                                      |(262144,[1043],[1.0])                                                                                                                                                                      |(262144,[1043],[6.842905306662021])                                                                                                                                                                                                                                                                                                                                                                                                                                                                                                               |\n",
      "|0.0  |sunny again work tomorrow tv tonight                                                                                          |[sunny, again, work, tomorrow, tv, tonight]                                                                                                              |(262144,[51,110,118,139,457,585],[1.0,1.0,1.0,1.0,1.0,1.0])                                                                                                                                |(262144,[51,110,118,139,457,585],[3.412127891754382,4.065058641596708,4.119663370205891,4.331866981481766,5.735583787205499,6.078331480129144])                                                                                                                                                                                                                                                                                                                                                                                                   |\n",
      "|1.0  |handed in my uniform today i miss you already                                                                                 |[handed, in, my, uniform, today, i, miss, you, already]                                                                                                  |(262144,[0,4,6,9,58,80,181,4899,6141],[1.0,1.0,1.0,1.0,1.0,1.0,1.0,1.0,1.0])                                                                                                               |(262144,[0,4,6,9,58,80,181,4899,6141],[0.9595359283914003,1.7379600203799832,1.90139677974817,2.1120153213912203,3.43237949914523,3.7856557066128396,4.683348967051615,8.963481294044158,9.304652051446924])                                                                                                                                                                                                                                                                                                                                      |\n",
      "|1.0  |hmmmm i wonder how she my number @                                                                                            |[hmmmm, i, wonder, how, she, my, number, @]                                                                                                              |(262144,[0,6,66,137,227,734,827,2878],[1.0,1.0,1.0,1.0,1.0,1.0,1.0,1.0])                                                                                                                   |(262144,[0,6,66,137,227,734,827,2878],[0.9595359283914003,1.90139677974817,3.5610150831155405,4.407468527155334,4.972762641667674,6.3631091067401355,6.544503019682782,8.224524577452918])                                                                                                                                                                                                                                                                                                                                                        |\n",
      "|0.0  |i must think about positive                                                                                                   |[i, must, think, about, positive]                                                                                                                        |(262144,[0,57,68,317,1386],[1.0,1.0,1.0,1.0,1.0])                                                                                                                                          |(262144,[0,57,68,317,1386],[0.9595359283914003,3.4312040837480615,3.5794522228398065,5.267207371522484,7.241831391003129])                                                                                                                                                                                                                                                                                                                                                                                                                        |\n",
      "|1.0  |thanks to all the haters up in my face all day                                                                                |[thanks, to, all, the, haters, up, in, my, face, all, day]                                                                                               |(262144,[1,2,6,9,33,34,36,65,464,3941],[1.0,1.0,1.0,1.0,1.0,2.0,1.0,1.0,1.0,1.0])                                                                                                          |(262144,[1,2,6,9,33,34,36,65,464,3941],[1.28721411889918,1.3556342540177815,1.90139677974817,2.1120153213912203,3.030345422471187,6.082591305261163,3.109237974350312,3.5002455352628896,5.770243841355971,8.662219963465995])                                                                                                                                                                                                                                                                                                                    |\n",
      "|0.0  |this weekend has sucked so far                                                                                                |[this, weekend, has, sucked, so, far]                                                                                                                    |(262144,[17,31,100,166,337,1935],[1.0,1.0,1.0,1.0,1.0,1.0])                                                                                                                                |(262144,[17,31,100,166,337,1935],[2.475381171123219,2.992797586901397,4.003372044886952,4.611189258313154,5.382352362157546,7.673474152376418])                                                                                                                                                                                                                                                                                                                                                                                                   |\n",
      "|0.0  |jb isnt showing in australia any more                                                                                         |[jb, isnt, showing, in, australia, any, more]                                                                                                            |(262144,[9,88,159,282,1131,1387,1559],[1.0,1.0,1.0,1.0,1.0,1.0,1.0])                                                                                                                       |(262144,[9,88,159,282,1131,1387,1559],[2.1120153213912203,3.840634009340973,4.571736409901354,5.1476594902624235,6.957997495418383,7.227961543138978,7.397146622027563])                                                                                                                                                                                                                                                                                                                                                                          |\n",
      "|0.0  |ok thats it you win                                                                                                           |[ok, thats, it, you, win]                                                                                                                                |(262144,[4,7,79,192,413],[1.0,1.0,1.0,1.0,1.0])                                                                                                                                            |(262144,[4,7,79,192,413],[1.7379600203799832,1.965978151294969,3.768356655615233,4.765926964866986,5.60267197328729])                                                                                                                                                                                                                                                                                                                                                                                                                             |\n",
      "|0.0  |lt this is the way i feel right now                                                                                           |[lt, this, is, the, way, i, feel, right, now]                                                                                                            |(262144,[0,2,8,29,31,98,109,136,202],[1.0,1.0,1.0,1.0,1.0,1.0,1.0,1.0,1.0])                                                                                                                |(262144,[0,2,8,29,31,98,109,136,202],[0.9595359283914003,1.3556342540177815,2.042570738903485,2.968643536363398,2.992797586901397,3.978805039117997,4.05722320291985,4.296437266839199,4.84851744461932])                                                                                                                                                                                                                                                                                                                                         |\n",
      "|0.0  |awhhe man im completely useless rt now funny all i can do is twitter                                                          |[awhhe, man, im, completely, useless, rt, now, funny, all, i, can, do, is, twitter]                                                                      |(262144,[0,8,11,29,34,41,60,106,203,328,978,2859,3601],[1.0,1.0,1.0,1.0,1.0,1.0,1.0,1.0,1.0,1.0,1.0,1.0,1.0])                                                                              |(262144,[0,8,11,29,34,41,60,106,203,328,978,2859,3601],[0.9595359283914003,2.042570738903485,2.1914294076287217,2.968643536363398,3.0412956526305814,3.1858289708215004,3.4568168054246677,4.046470101980569,4.826441492920121,5.306955559943201,6.749044587826816,8.206039762778815,8.52724452726924])                                                                                                                                                                                                                                           |\n",
      "|1.0  |feeling strangely fine now im gonna go listen to some semisonic to celebrate                                                  |[feeling, strangely, fine, now, im, gonna, go, listen, to, some, semisonic, to, celebrate]                                                               |(262144,[1,11,29,42,69,135,189,453,610,1693,7194],[2.0,1.0,1.0,1.0,1.0,1.0,1.0,1.0,1.0,1.0,1.0])                                                                                           |(262144,[1,11,29,42,69,135,189,453,610,1693,7194],[2.57442823779836,2.1914294076287217,2.968643536363398,3.1767756488490653,3.6185338326928886,4.277811773883048,4.735393773037566,5.714136886735193,6.129808496729226,7.4769174797605915,9.458802731274183])                                                                                                                                                                                                                                                                                     |\n",
      "|0.0  |huge roll of thunder just nowso scary                                                                                         |[huge, roll, of, thunder, just, nowso, scary]                                                                                                            |(262144,[12,19,748,947,1441,1813,19484],[1.0,1.0,1.0,1.0,1.0,1.0,1.0])                                                                                                                     |(262144,[12,19,748,947,1441,1813,19484],[2.2708161449047433,2.6140282130096653,6.387772717430881,6.735485058041184,7.2687261472032505,7.604911480939121,10.871072578797333])                                                                                                                                                                                                                                                                                                                                                                      |\n",
      "|0.0  |i just cut my beard off its only been growing for well over a year im gonna start it over @shaunamanu is happy in the meantime|[i, just, cut, my, beard, off, its, only, been, growing, for, well, over, a, year, im, gonna, start, it, over, @shaunamanu, is, happy, in, the, meantime]|(262144,[0,2,3,6,7,8,9,10,11,19,21,67,86,108,111,115,135,140,251,280,643,2050,5040,6942],[1.0,1.0,1.0,1.0,1.0,1.0,1.0,1.0,1.0,1.0,1.0,1.0,1.0,1.0,1.0,1.0,1.0,2.0,1.0,1.0,1.0,1.0,1.0,1.0])|(262144,[0,2,3,6,7,8,9,10,11,19,21,67,86,108,111,115,135,140,251,280,643,2050,5040,6942],[0.9595359283914003,1.3556342540177815,1.5750857960619378,1.90139677974817,1.965978151294969,2.042570738903485,2.1120153213912203,2.099996331027103,2.1914294076287217,2.6140282130096653,2.689322679862728,3.5703865600656473,3.835109261659521,4.054740307629241,4.074307668485093,4.123856765595989,4.277811773883048,8.708202464065085,5.056313807592408,5.141656556534159,6.2131102222979555,7.777640638041636,9.003327202591356,9.421062403291335])|\n",
      "+-----+------------------------------------------------------------------------------------------------------------------------------+---------------------------------------------------------------------------------------------------------------------------------------------------------+-------------------------------------------------------------------------------------------------------------------------------------------------------------------------------------------+--------------------------------------------------------------------------------------------------------------------------------------------------------------------------------------------------------------------------------------------------------------------------------------------------------------------------------------------------------------------------------------------------------------------------------------------------------------------------------------------------------------------------------------------------+\n",
      "only showing top 20 rows\n",
      "\n"
     ]
    }
   ],
   "source": [
    "rescaled_data.show(20, truncate=False)"
   ]
  },
  {
   "cell_type": "code",
   "execution_count": 9,
   "metadata": {},
   "outputs": [
    {
     "name": "stdout",
     "output_type": "stream",
     "text": [
      "+-----+-----+-----+-----------+--------+\n",
      "|label|tweet|words|rawFeatures|features|\n",
      "+-----+-----+-----+-----------+--------+\n",
      "+-----+-----+-----+-----------+--------+\n",
      "\n"
     ]
    },
    {
     "data": {
      "text/plain": [
       "0"
      ]
     },
     "execution_count": 9,
     "metadata": {},
     "output_type": "execute_result"
    }
   ],
   "source": [
    "# Check empty tweets\n",
    "rescaled_data.filter(rescaled_data[\"tweet\"] == \"\").show(10, truncate=False)\n",
    "# Check null words\n",
    "rescaled_data.filter(rescaled_data[\"words\"].isNull()).count()"
   ]
  },
  {
   "cell_type": "code",
   "execution_count": 10,
   "metadata": {},
   "outputs": [],
   "source": [
    "# Chia training/test\n",
    "test_size = 0.25\n",
    "\n",
    "training_data, test_data = rescaled_data.randomSplit([1 - test_size, test_size], seed=1234)"
   ]
  },
  {
   "cell_type": "code",
   "execution_count": 11,
   "metadata": {},
   "outputs": [],
   "source": [
    "# Huấn luyện mô hình SVM\n",
    "start_time = time.time()\n",
    "\n",
    "lsvc = LinearSVC(maxIter=10, regParam=0.1)\n",
    "model = lsvc.fit(training_data)\n",
    "\n",
    "# Dự đoán\n",
    "predictions = model.transform(test_data)"
   ]
  },
  {
   "cell_type": "code",
   "execution_count": 12,
   "metadata": {},
   "outputs": [
    {
     "name": "stderr",
     "output_type": "stream",
     "text": [
      "/usr/local/spark/python/pyspark/sql/context.py:158: FutureWarning: Deprecated in 3.0.0. Use SparkSession.builder.getOrCreate() instead.\n",
      "  warnings.warn(\n"
     ]
    },
    {
     "name": "stdout",
     "output_type": "stream",
     "text": [
      "Confusion Matrix:\n",
      "DenseMatrix([[ 85593.,  31303.],\n",
      "             [ 23530., 109377.]])\n",
      "Accuracy: 0.7804950300837059\n",
      "F1 Score: 0.779838767694421\n",
      "Training time: 77.03 seconds\n"
     ]
    }
   ],
   "source": [
    "# Đánh giá\n",
    "evaluator = MulticlassClassificationEvaluator(\n",
    "    labelCol=\"label\", \n",
    "    predictionCol=\"prediction\", \n",
    "    metricName=\"accuracy\"\n",
    ")\n",
    "\n",
    "accuracy = evaluator.evaluate(predictions)\n",
    "\n",
    "# Tính F1-score\n",
    "prediction_and_labels = predictions.select(\"prediction\", \"label\").rdd.map(\n",
    "    lambda row: (float(row['prediction']), float(row['label']))\n",
    ")\n",
    "metrics = MulticlassMetrics(prediction_and_labels)\n",
    "\n",
    "# In kết quả\n",
    "print(\"Confusion Matrix:\")\n",
    "print(metrics.confusionMatrix())\n",
    "print(f\"Accuracy: {accuracy}\")\n",
    "print(f\"F1 Score: {metrics.weightedFMeasure()}\")\n",
    "print(f\"Training time: {time.time() - start_time:.2f} seconds\")"
   ]
  },
  {
   "cell_type": "code",
   "execution_count": 13,
   "metadata": {},
   "outputs": [
    {
     "name": "stdout",
     "output_type": "stream",
     "text": [
      "root\n",
      " |-- label: double (nullable = false)\n",
      " |-- tweet: string (nullable = false)\n",
      " |-- words: array (nullable = true)\n",
      " |    |-- element: string (containsNull = true)\n",
      " |-- rawFeatures: vector (nullable = true)\n",
      " |-- features: vector (nullable = true)\n",
      " |-- rawPrediction: vector (nullable = true)\n",
      " |-- prediction: double (nullable = false)\n",
      "\n"
     ]
    }
   ],
   "source": [
    "predictions.printSchema()"
   ]
  },
  {
   "cell_type": "code",
   "execution_count": 14,
   "metadata": {},
   "outputs": [
    {
     "name": "stdout",
     "output_type": "stream",
     "text": [
      "+-----+--------------------------------------------------------------------------------------------------------------------------------------+----------+\n",
      "|label|tweet                                                                                                                                 |prediction|\n",
      "+-----+--------------------------------------------------------------------------------------------------------------------------------------+----------+\n",
      "|0.0  |# @rockchic aw poor you hope its not oinkflu                                                                                          |0.0       |\n",
      "|0.0  |# cough # runny nose or stuffy nose # sore throat # body aches # headache more and i would have flu                                   |0.0       |\n",
      "|0.0  |# todays weather sucks and its perfect close pleaseeee i hope they dont keep my on call                                               |0.0       |\n",
      "|0.0  |###@ i hate the dentist i dont want to go                                                                                             |0.0       |\n",
      "|0.0  |#@ airlines they left my bag @ ewr amp with a hr connection                                                                           |0.0       |\n",
      "|0.0  |#@ get ready for d new semester sigh going back to campus tomorrow #fb                                                                |0.0       |\n",
      "|0.0  |#@ my nose stud fell out and i cant find it looks like ill have to head into amsterdam today and get a new one                        |0.0       |\n",
      "|0.0  |#@amp cant sleep two baseball games in the mourning shoot me now                                                                      |0.0       |\n",
      "|0.0  |#a #airfranceflight                                                                                                                   |1.0       |\n",
      "|0.0  |#aaah git is driving me crazy                                                                                                         |1.0       |\n",
      "|0.0  |#addictedto cursing ugh its a horrid habbit                                                                                           |0.0       |\n",
      "|0.0  |#air france confirms captain amp one cabin crew of #af have been identified hope they may have a swift journey home to their families |0.0       |\n",
      "|0.0  |#air france my heart just breaks for those families bodies found                                                                      |0.0       |\n",
      "|0.0  |#ajax #php just thinking about a concept of autorefresh @varun_chander made a mistake here                                            |1.0       |\n",
      "|0.0  |#amazeballs something else i should know but dont                                                                                     |0.0       |\n",
      "|0.0  |#amazon #fail i decided to buy some mp downloads from @amazonmp this morning with a gift certificate it just charged me without asking|1.0       |\n",
      "|0.0  |#amp@ its june bug season again                                                                                                       |0.0       |\n",
      "|0.0  |#anewday at home me means ho pot of coffee and food intake                                                                            |1.0       |\n",
      "|0.0  |#api testing api doesnt work anymore                                                                                                  |0.0       |\n",
      "|0.0  |#apprentice oh im embarrassed poor thing                                                                                              |0.0       |\n",
      "+-----+--------------------------------------------------------------------------------------------------------------------------------------+----------+\n",
      "only showing top 20 rows\n",
      "\n"
     ]
    }
   ],
   "source": [
    "# Display the first few rows of predictions\n",
    "predictions.select('label', 'tweet', 'prediction').show(20, truncate=False)"
   ]
  },
  {
   "cell_type": "code",
   "execution_count": 15,
   "metadata": {},
   "outputs": [],
   "source": [
    "# Dừng Spark Session\n",
    "spark.stop()"
   ]
  }
 ],
 "metadata": {
  "kernelspec": {
   "display_name": "Python 3 (ipykernel)",
   "language": "python",
   "name": "python3"
  },
  "language_info": {
   "codemirror_mode": {
    "name": "ipython",
    "version": 3
   },
   "file_extension": ".py",
   "mimetype": "text/x-python",
   "name": "python",
   "nbconvert_exporter": "python",
   "pygments_lexer": "ipython3",
   "version": "3.11.6"
  }
 },
 "nbformat": 4,
 "nbformat_minor": 2
}
