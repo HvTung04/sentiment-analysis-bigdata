{
 "cells": [
  {
   "cell_type": "markdown",
   "metadata": {},
   "source": [
    "# Import thư viện"
   ]
  },
  {
   "cell_type": "code",
   "execution_count": 31,
   "metadata": {},
   "outputs": [],
   "source": [
    "# Import libraries\n",
    "from pyspark.sql import SparkSession\n",
    "from pyspark.ml.feature import Tokenizer, HashingTF, IDF\n",
    "from pyspark.ml.classification import LinearSVC\n",
    "from pyspark.ml.evaluation import MulticlassClassificationEvaluator\n",
    "from pyspark.mllib.evaluation import MulticlassMetrics\n",
    "import time\n",
    "import re\n",
    "import os\n"
   ]
  },
  {
   "cell_type": "code",
   "execution_count": 32,
   "metadata": {},
   "outputs": [],
   "source": [
    "# Create Spark Session\n",
    "spark = SparkSession.builder \\\n",
    "    .appName(\"Support Vector Machines\") \\\n",
    "    .getOrCreate()"
   ]
  },
  {
   "cell_type": "markdown",
   "metadata": {},
   "source": [
    "# Tiền xử lý"
   ]
  },
  {
   "cell_type": "code",
   "execution_count": 33,
   "metadata": {},
   "outputs": [],
   "source": [
    "# Preprocessing CSV file\n",
    "def split_csv(line):\n",
    "    columns = line.split(\",\")\n",
    "    if len(columns) > 4:\n",
    "        columns[3] = \",\".join(columns[3:])\n",
    "    return columns[:4]"
   ]
  },
  {
   "cell_type": "code",
   "execution_count": 34,
   "metadata": {},
   "outputs": [],
   "source": [
    "# Cleaning text\n",
    "def clean_text(text):\n",
    "    # Remove URLs using a comprehensive regex\n",
    "    text = re.sub(r'http[s]?://(?:[a-zA-Z]|[0-9]|[$-_@.&+]|[!*\\\\(\\\\),]|(?:%[0-9a-fA-F][0-9a-fA-F]))+', '', text)\n",
    "\n",
    "    # Remove excessive punctuation (multiple consecutive special characters)\n",
    "    text = re.sub(r'\\?{2,}', ' ', text)\n",
    "\n",
    "    # Remove numbers\n",
    "    text = re.sub(r'\\d+', '', text)\n",
    "\n",
    "    # Keep mentions and hashtags, remove other special characters\n",
    "    text = re.sub(r'[^\\w\\s@#]', '', text)\n",
    "\n",
    "    # Convert to lowercase\n",
    "    text = text.lower()\n",
    "\n",
    "    # Remove extra whitespace\n",
    "    text = re.sub(r'\\s+', ' ', text).strip()\n",
    "\n",
    "    return text"
   ]
  },
  {
   "cell_type": "markdown",
   "metadata": {},
   "source": [
    "# Đọc dữ liệu"
   ]
  },
  {
   "cell_type": "code",
   "execution_count": 35,
   "metadata": {},
   "outputs": [
    {
     "name": "stdout",
     "output_type": "stream",
     "text": [
      "Đường dẫn file: /home/jovyan/input/spark_input_1/tweets.csv\n"
     ]
    }
   ],
   "source": [
    "input_path = os.path.join(os.getcwd(), \"input/spark_input_1/tweets.csv\")\n",
    "print(\"Đường dẫn file:\", input_path) "
   ]
  },
  {
   "cell_type": "code",
   "execution_count": 36,
   "metadata": {},
   "outputs": [
    {
     "name": "stdout",
     "output_type": "stream",
     "text": [
      "\n",
      "Thông tin về DataFrame:\n",
      "- Số lượng dòng: 100000\n",
      "- Schema:\n",
      "root\n",
      " |-- label: double (nullable = false)\n",
      " |-- tweet: string (nullable = false)\n",
      "\n",
      "\n",
      "Mẫu 5 dòng đầu tiên:\n",
      "+-----+-----------------------------------------------------------------------------------------------------+\n",
      "|label|tweet                                                                                                |\n",
      "+-----+-----------------------------------------------------------------------------------------------------+\n",
      "|0.0  |is so sad for my apl friend                                                                          |\n",
      "|0.0  |i missed the new moon trailer                                                                        |\n",
      "|1.0  |omg its already o                                                                                    |\n",
      "|0.0  |omgaga im sooo im gunna cry ive been at this dentist since i was suposed just get a crown put on mins|\n",
      "|0.0  |i think mi bf is cheating on me t_t                                                                  |\n",
      "+-----+-----------------------------------------------------------------------------------------------------+\n",
      "only showing top 5 rows\n",
      "\n",
      "\n",
      "Phân bố nhãn sentiment:\n",
      "+-----+-----+\n",
      "|label|count|\n",
      "+-----+-----+\n",
      "|  0.0|43538|\n",
      "|  1.0|56462|\n",
      "+-----+-----+\n",
      "\n"
     ]
    }
   ],
   "source": [
    "# Read data\n",
    "rdd = spark.sparkContext.textFile(input_path) \\\n",
    "    .map(split_csv) \\\n",
    "    .map(lambda columns: (\n",
    "        float(columns[1]),  # Sentiment\n",
    "        clean_text(columns[3])  # Tweet text cleaned\n",
    "    ))\n",
    "\n",
    "# Convert RDD to DataFrame\n",
    "from pyspark.sql.types import StructType, StructField, DoubleType, StringType\n",
    "schema = StructType([\n",
    "    StructField(\"label\", DoubleType(), False),\n",
    "    StructField(\"tweet\", StringType(), False)\n",
    "])\n",
    "\n",
    "df = spark.createDataFrame(rdd, schema)\n",
    "    \n",
    "# In ra một số thông tin về DataFrame để kiểm tra\n",
    "print(\"\\nThông tin về DataFrame:\")\n",
    "print(\"- Số lượng dòng:\", df.count())\n",
    "print(\"- Schema:\")\n",
    "df.printSchema()\n",
    "\n",
    "print(\"\\nMẫu 5 dòng đầu tiên:\")\n",
    "df.show(5, truncate=False)\n",
    "\n",
    "# Thống kê phân bố nhãn\n",
    "print(\"\\nPhân bố nhãn sentiment:\")\n",
    "df.groupBy(\"label\").count().orderBy(\"label\").show()\n"
   ]
  },
  {
   "cell_type": "code",
   "execution_count": 37,
   "metadata": {},
   "outputs": [],
   "source": [
    "# Áp dụng TF-IDF\n",
    "# 1. Tokenization\n",
    "tokenizer = Tokenizer(inputCol=\"tweet\", outputCol=\"words\")\n",
    "words_data = tokenizer.transform(df)\n",
    "\n",
    "# 2. TF (Term Frequency)\n",
    "hashingTF = HashingTF(inputCol=\"words\", outputCol=\"rawFeatures\")\n",
    "featurized_data = hashingTF.transform(words_data)\n",
    "\n",
    "# 3. IDF\n",
    "idf = IDF(inputCol=\"rawFeatures\", outputCol=\"features\")\n",
    "idf_model = idf.fit(featurized_data)\n",
    "rescaled_data = idf_model.transform(featurized_data)"
   ]
  },
  {
   "cell_type": "code",
   "execution_count": 38,
   "metadata": {},
   "outputs": [
    {
     "name": "stdout",
     "output_type": "stream",
     "text": [
      "+-----+------------------------------------------------------------------------------------------------------------------------------+---------------------------------------------------------------------------------------------------------------------------------------------------------+--------------------------------------------------------------------------------------------------------------------------------------------------------------------------------------------------------------------------------------------------------------------------------------+-------------------------------------------------------------------------------------------------------------------------------------------------------------------------------------------------------------------------------------------------------------------------------------------------------------------------------------------------------------------------------------------------------------------------------------------------------------------------------------------------------------------------------------------------------------------------------------------------------------------------------------------------------------+\n",
      "|label|tweet                                                                                                                         |words                                                                                                                                                    |rawFeatures                                                                                                                                                                                                                                                                           |features                                                                                                                                                                                                                                                                                                                                                                                                                                                                                                                                                                                                                                                     |\n",
      "+-----+------------------------------------------------------------------------------------------------------------------------------+---------------------------------------------------------------------------------------------------------------------------------------------------------+--------------------------------------------------------------------------------------------------------------------------------------------------------------------------------------------------------------------------------------------------------------------------------------+-------------------------------------------------------------------------------------------------------------------------------------------------------------------------------------------------------------------------------------------------------------------------------------------------------------------------------------------------------------------------------------------------------------------------------------------------------------------------------------------------------------------------------------------------------------------------------------------------------------------------------------------------------------+\n",
      "|0.0  |is so sad for my apl friend                                                                                                   |[is, so, sad, for, my, apl, friend]                                                                                                                      |(262144,[74520,74989,106776,106841,117491,125638,240944],[1.0,1.0,1.0,1.0,1.0,1.0,1.0])                                                                                                                                                                                               |(262144,[74520,74989,106776,106841,117491,125638,240944],[5.109361266985414,10.819788284360284,2.1410716587873746,2.1892664076370427,2.471250458974186,4.191085751131873,2.085469613955399])                                                                                                                                                                                                                                                                                                                                                                                                                                                                 |\n",
      "|0.0  |i missed the new moon trailer                                                                                                 |[i, missed, the, new, moon, trailer]                                                                                                                     |(262144,[19036,64344,89833,95889,165360,201103],[1.0,1.0,1.0,1.0,1.0,1.0])                                                                                                                                                                                                            |(262144,[19036,64344,89833,95889,165360,201103],[0.9928308658141046,7.4875837741850795,4.047852728520681,1.4058134314581163,4.9762438673289235,7.047027346265645])                                                                                                                                                                                                                                                                                                                                                                                                                                                                                           |\n",
      "|1.0  |omg its already o                                                                                                             |[omg, its, already, o]                                                                                                                                   |(262144,[2306,83580,140315,172914],[1.0,1.0,1.0,1.0])                                                                                                                                                                                                                                 |(262144,[2306,83580,140315,172914],[4.754840960492498,5.435293221571194,2.7484135554014264,4.999705354007922])                                                                                                                                                                                                                                                                                                                                                                                                                                                                                                                                               |\n",
      "|0.0  |omgaga im sooo im gunna cry ive been at this dentist since i was suposed just get a crown put on mins                         |[omgaga, im, sooo, im, gunna, cry, ive, been, at, this, dentist, since, i, was, suposed, just, get, a, crown, put, on, mins]                             |(262144,[19036,31015,36755,67416,77751,95197,97171,99211,105689,107107,108541,133134,150152,187114,204967,227008,227431,233967,247479,252722,261626],[1.0,2.0,1.0,1.0,1.0,1.0,1.0,1.0,1.0,1.0,1.0,1.0,1.0,1.0,1.0,1.0,1.0,1.0,1.0,1.0,1.0])                                           |(262144,[19036,31015,36755,67416,77751,95197,97171,99211,105689,107107,108541,133134,150152,187114,204967,227008,227431,233967,247479,252722,261626],[0.9928308658141046,4.56225437265761,8.947986107458693,2.405735851863559,5.23817344367829,10.414323176252118,2.722818572027756,2.723123078729256,6.897814948078969,1.6404227166835312,3.0973321292656246,5.944590961159132,4.149021963514409,2.990953756772194,7.957587403430815,10.126641103800338,3.8420406335581117,5.183214559397532,7.505602279687758,2.975743586997302,5.933205638934006])                                                                                                        |\n",
      "|0.0  |i think mi bf is cheating on me t_t                                                                                           |[i, think, mi, bf, is, cheating, on, me, t_t]                                                                                                            |(262144,[19036,50001,67416,95227,106841,153423,174986,225606,245456],[1.0,1.0,1.0,1.0,1.0,1.0,1.0,1.0,1.0])                                                                                                                                                                           |(262144,[19036,50001,67416,95227,106841,153423,174986,225606,245456],[0.9928308658141046,2.273327595263478,2.405735851863559,7.824056010806292,2.1892664076370427,3.570217924346438,7.354052381560557,9.210350371926182,8.622563707024064])                                                                                                                                                                                                                                                                                                                                                                                                                  |\n",
      "|0.0  |or i just worry too much                                                                                                      |[or, i, just, worry, too, much]                                                                                                                          |(262144,[5923,19036,76764,97171,117975,119453],[1.0,1.0,1.0,1.0,1.0,1.0])                                                                                                                                                                                                             |(262144,[5923,19036,76764,97171,117975,119453],[2.9971432544196195,0.9928308658141046,3.8309139540933543,2.722818572027756,6.16582793420276,3.7696657640912243])                                                                                                                                                                                                                                                                                                                                                                                                                                                                                             |\n",
      "|1.0  |juuuuuuuuuuuuuuuuussssst chillin                                                                                              |[juuuuuuuuuuuuuuuuussssst, chillin]                                                                                                                      |(262144,[186398,243823],[1.0,1.0])                                                                                                                                                                                                                                                    |(262144,[186398,243823],[10.819788284360284,7.542643551368107])                                                                                                                                                                                                                                                                                                                                                                                                                                                                                                                                                                                              |\n",
      "|0.0  |sunny again work tomorrow tv tonight                                                                                          |[sunny, again, work, tomorrow, tv, tonight]                                                                                                              |(262144,[27139,29129,34343,45843,73853,108846],[1.0,1.0,1.0,1.0,1.0,1.0])                                                                                                                                                                                                             |(262144,[27139,29129,34343,45843,73853,108846],[5.863961226759023,4.490959041848069,3.6969216257612008,4.331343520308364,4.679903732134028,6.536201722499654])                                                                                                                                                                                                                                                                                                                                                                                                                                                                                               |\n",
      "|1.0  |handed in my uniform today i miss you already                                                                                 |[handed, in, my, uniform, today, i, miss, you, already]                                                                                                  |(262144,[2306,19036,64238,210343,214962,221027,232735,240944,250855],[1.0,1.0,1.0,1.0,1.0,1.0,1.0,1.0,1.0])                                                                                                                                                                           |(262144,[2306,19036,64238,210343,214962,221027,232735,240944,250855],[4.754840960492498,0.9928308658141046,3.859440555258976,8.421893011561913,1.507342689446947,9.115040192121858,3.915037514398445,2.085469613955399,2.2138518831096574])                                                                                                                                                                                                                                                                                                                                                                                                                  |\n",
      "|1.0  |hmmmm i wonder how she my number @                                                                                            |[hmmmm, i, wonder, how, she, my, number, @]                                                                                                              |(262144,[19036,45176,131641,135239,197443,211980,240944,257267],[1.0,1.0,1.0,1.0,1.0,1.0,1.0,1.0])                                                                                                                                                                                    |(262144,[19036,45176,131641,135239,197443,211980,240944,257267],[0.9928308658141046,4.0611132283922995,8.334881634572284,6.319978614030019,3.5210049450677516,4.364589721020161,2.085469613955399,6.35964387042245])                                                                                                                                                                                                                                                                                                                                                                                                                                         |\n",
      "|0.0  |i must think about positive                                                                                                   |[i, must, think, about, positive]                                                                                                                        |(262144,[18700,19036,153423,162801,229407],[1.0,1.0,1.0,1.0,1.0])                                                                                                                                                                                                                     |(262144,[18700,19036,153423,162801,229407],[3.4308421867418466,0.9928308658141046,3.570217924346438,7.402061600746918,5.1708140461990775])                                                                                                                                                                                                                                                                                                                                                                                                                                                                                                                   |\n",
      "|1.0  |thanks to all the haters up in my face all day                                                                                |[thanks, to, all, the, haters, up, in, my, face, all, day]                                                                                               |(262144,[27576,42404,61094,64358,77767,95889,240944,247394,250855,254061],[1.0,2.0,1.0,1.0,1.0,1.0,1.0,1.0,1.0,1.0])                                                                                                                                                                  |(262144,[27576,42404,61094,64358,77767,95889,240944,247394,250855,254061],[1.4081819395892081,6.201761183254592,8.254838926898747,3.2201366067198536,3.1109286833131087,1.4058134314581163,2.085469613955399,5.795907763514007,2.2138518831096574,3.4330076941619536])                                                                                                                                                                                                                                                                                                                                                                                       |\n",
      "|0.0  |this weekend has sucked so far                                                                                                |[this, weekend, has, sucked, so, far]                                                                                                                    |(262144,[108541,117491,132786,138837,165678,173532],[1.0,1.0,1.0,1.0,1.0,1.0])                                                                                                                                                                                                        |(262144,[108541,117491,132786,138837,165678,173532],[3.0973321292656246,2.471250458974186,4.2308618068267645,4.891529813156094,5.343324732428773,7.66278786321017])                                                                                                                                                                                                                                                                                                                                                                                                                                                                                          |\n",
      "|0.0  |jb isnt showing in australia any more                                                                                         |[jb, isnt, showing, in, australia, any, more]                                                                                                            |(262144,[2284,28319,77053,86617,156404,239029,250855],[1.0,1.0,1.0,1.0,1.0,1.0,1.0])                                                                                                                                                                                                  |(262144,[2284,28319,77053,86617,156404,239029,250855],[6.878206476690593,7.6417344540123375,4.494533665851028,7.182202124633897,5.148184708068317,3.8656266325639907,2.2138518831096574])                                                                                                                                                                                                                                                                                                                                                                                                                                                                    |\n",
      "|0.0  |ok thats it you win                                                                                                           |[ok, thats, it, you, win]                                                                                                                                |(262144,[10345,30950,77886,198197,214962],[1.0,1.0,1.0,1.0,1.0])                                                                                                                                                                                                                      |(262144,[10345,30950,77886,198197,214962],[3.516954990156469,1.896063886653884,5.496778305221875,4.486508656220593,1.507342689446947])                                                                                                                                                                                                                                                                                                                                                                                                                                                                                                                       |\n",
      "|0.0  |lt this is the way i feel right now                                                                                           |[lt, this, is, the, way, i, feel, right, now]                                                                                                            |(262144,[19036,51471,61899,82671,95889,106841,108541,147738,229166],[1.0,1.0,1.0,1.0,1.0,1.0,1.0,1.0,1.0])                                                                                                                                                                            |(262144,[19036,51471,61899,82671,95889,106841,108541,147738,229166],[0.9928308658141046,4.260173046867042,4.168216410770556,4.676676187643162,1.4058134314581163,2.1892664076370427,3.0973321292656246,3.089174218296544,4.034765770760443])                                                                                                                                                                                                                                                                                                                                                                                                                 |\n",
      "|0.0  |awhhe man im completely useless rt now funny all i can do is twitter                                                          |[awhhe, man, im, completely, useless, rt, now, funny, all, i, can, do, is, twitter]                                                                      |(262144,[1512,19036,31015,42404,77407,106841,108437,109753,115994,133891,147738,181839,194194,257091],[1.0,1.0,1.0,1.0,1.0,1.0,1.0,1.0,1.0,1.0,1.0,1.0,1.0,1.0])                                                                                                                      |(262144,[1512,19036,31015,42404,77407,106841,108437,109753,115994,133891,147738,181839,194194,257091],[4.113537381588875,0.9928308658141046,2.281127186328805,3.100880591627296,8.468413027196807,2.1892664076370427,3.37495501046809,4.783111394430754,3.1382279218007465,10.414323176252118,3.089174218296544,7.957587403430815,5.1796558367805385,6.887962651635958])                                                                                                                                                                                                                                                                                     |\n",
      "|1.0  |feeling strangely fine now im gonna go listen to some semisonic to celebrate                                                  |[feeling, strangely, fine, now, im, gonna, go, listen, to, some, semisonic, to, celebrate]                                                               |(262144,[15392,16641,19208,27576,31015,81672,128317,137733,147738,148675,187668,245951],[1.0,1.0,1.0,2.0,1.0,1.0,1.0,1.0,1.0,1.0,1.0,1.0])                                                                                                                                            |(262144,[15392,16641,19208,27576,31015,81672,128317,137733,147738,148675,187668,245951],[9.210350371926182,10.819788284360284,3.744402163994195,2.8163638791784162,2.281127186328805,4.490067378837587,6.0281385314295735,5.230668718024222,3.089174218296544,3.3723284220617793,7.929416526464119,5.5264834596357915])                                                                                                                                                                                                                                                                                                                                      |\n",
      "|0.0  |huge roll of thunder just nowso scary                                                                                         |[huge, roll, of, thunder, just, nowso, scary]                                                                                                            |(262144,[45190,68892,97171,142514,187674,219087,237198],[1.0,1.0,1.0,1.0,1.0,1.0,1.0])                                                                                                                                                                                                |(262144,[45190,68892,97171,142514,187674,219087,237198],[6.450340431893262,10.414323176252118,2.722818572027756,7.751735349226666,7.208870371716059,2.3192327340970693,6.768003336556979])                                                                                                                                                                                                                                                                                                                                                                                                                                                                   |\n",
      "|0.0  |i just cut my beard off its only been growing for well over a year im gonna start it over @shaunamanu is happy in the meantime|[i, just, cut, my, beard, off, its, only, been, growing, for, well, over, a, year, im, gonna, start, it, over, @shaunamanu, is, happy, in, the, meantime]|(262144,[9056,16004,19036,30950,31015,81672,95889,97171,102006,106776,106841,107107,140315,141444,179832,181635,183374,183411,186925,221315,227431,237246,237631,240944,250855],[1.0,1.0,1.0,1.0,1.0,1.0,1.0,1.0,1.0,1.0,1.0,1.0,1.0,1.0,2.0,1.0,1.0,1.0,1.0,1.0,1.0,1.0,1.0,1.0,1.0])|(262144,[9056,16004,19036,30950,31015,81672,95889,97171,102006,106776,106841,107107,140315,141444,179832,181635,183374,183411,186925,221315,227431,237246,237631,240944,250855],[4.283096686768978,5.29035919684886,0.9928308658141046,1.896063886653884,2.281127186328805,4.490067378837587,1.4058134314581163,2.722818572027756,6.425339129687845,2.1410716587873746,2.1892664076370427,1.6404227166835312,2.7484135554014264,7.77526584663686,8.922159683928669,4.007993396524058,9.115040192121858,4.3155001108236375,3.4296068561338537,5.096203182407903,3.8420406335581117,9.115040192121858,10.819788284360284,2.085469613955399,2.2138518831096574])|\n",
      "+-----+------------------------------------------------------------------------------------------------------------------------------+---------------------------------------------------------------------------------------------------------------------------------------------------------+--------------------------------------------------------------------------------------------------------------------------------------------------------------------------------------------------------------------------------------------------------------------------------------+-------------------------------------------------------------------------------------------------------------------------------------------------------------------------------------------------------------------------------------------------------------------------------------------------------------------------------------------------------------------------------------------------------------------------------------------------------------------------------------------------------------------------------------------------------------------------------------------------------------------------------------------------------------+\n",
      "only showing top 20 rows\n",
      "\n"
     ]
    }
   ],
   "source": [
    "rescaled_data.show(20, truncate=False)"
   ]
  },
  {
   "cell_type": "code",
   "execution_count": 39,
   "metadata": {},
   "outputs": [
    {
     "name": "stdout",
     "output_type": "stream",
     "text": [
      "+-----+-----+-----+-----------+--------+\n",
      "|label|tweet|words|rawFeatures|features|\n",
      "+-----+-----+-----+-----------+--------+\n",
      "+-----+-----+-----+-----------+--------+\n",
      "\n"
     ]
    },
    {
     "data": {
      "text/plain": [
       "0"
      ]
     },
     "execution_count": 39,
     "metadata": {},
     "output_type": "execute_result"
    }
   ],
   "source": [
    "# Check empty tweets\n",
    "rescaled_data.filter(rescaled_data[\"tweet\"] == \"\").show(10, truncate=False)\n",
    "# Check null words\n",
    "rescaled_data.filter(rescaled_data[\"words\"].isNull()).count()"
   ]
  },
  {
   "cell_type": "code",
   "execution_count": 40,
   "metadata": {},
   "outputs": [],
   "source": [
    "# Chia training/test\n",
    "test_size = 0.25\n",
    "\n",
    "training_data, test_data = rescaled_data.randomSplit([1 - test_size, test_size], seed=1234)"
   ]
  },
  {
   "cell_type": "code",
   "execution_count": 41,
   "metadata": {},
   "outputs": [],
   "source": [
    "# Huấn luyện mô hình SVM\n",
    "start_time = time.time()\n",
    "\n",
    "lsvc = LinearSVC(maxIter=10, regParam=0.1)\n",
    "model = lsvc.fit(training_data)\n",
    "\n",
    "# Dự đoán\n",
    "predictions = model.transform(test_data)\n",
    "\n",
    "end_time = time.time()"
   ]
  },
  {
   "cell_type": "code",
   "execution_count": 42,
   "metadata": {},
   "outputs": [
    {
     "name": "stderr",
     "output_type": "stream",
     "text": [
      "/usr/local/spark/python/pyspark/sql/context.py:158: FutureWarning: Deprecated in 3.0.0. Use SparkSession.builder.getOrCreate() instead.\n",
      "  warnings.warn(\n"
     ]
    },
    {
     "name": "stdout",
     "output_type": "stream",
     "text": [
      "Confusion Matrix:\n",
      "DenseMatrix([[ 7213.,  3712.],\n",
      "             [ 3307., 10784.]])\n",
      "Accuracy: 0.7194195714742565\n",
      "F1 Score: 0.7187576482556113\n",
      "Execution time: 19.81 seconds\n"
     ]
    }
   ],
   "source": [
    "# Đánh giá\n",
    "evaluator = MulticlassClassificationEvaluator(\n",
    "    labelCol=\"label\", \n",
    "    predictionCol=\"prediction\", \n",
    "    metricName=\"accuracy\"\n",
    ")\n",
    "\n",
    "accuracy = evaluator.evaluate(predictions)\n",
    "\n",
    "# Tính F1-score\n",
    "prediction_and_labels = predictions.select(\"prediction\", \"label\").rdd.map(\n",
    "    lambda row: (float(row['prediction']), float(row['label']))\n",
    ")\n",
    "metrics = MulticlassMetrics(prediction_and_labels)\n",
    "\n",
    "# In kết quả\n",
    "print(\"Confusion Matrix:\")\n",
    "print(metrics.confusionMatrix())\n",
    "print(f\"Accuracy: {accuracy}\")\n",
    "print(f\"F1 Score: {metrics.weightedFMeasure()}\")\n",
    "print(f\"Execution time: {time.time() - start_time:.2f} seconds\")"
   ]
  },
  {
   "cell_type": "code",
   "execution_count": 43,
   "metadata": {},
   "outputs": [
    {
     "name": "stdout",
     "output_type": "stream",
     "text": [
      "root\n",
      " |-- label: double (nullable = false)\n",
      " |-- tweet: string (nullable = false)\n",
      " |-- words: array (nullable = true)\n",
      " |    |-- element: string (containsNull = true)\n",
      " |-- rawFeatures: vector (nullable = true)\n",
      " |-- features: vector (nullable = true)\n",
      " |-- rawPrediction: vector (nullable = true)\n",
      " |-- prediction: double (nullable = false)\n",
      "\n"
     ]
    }
   ],
   "source": [
    "predictions.printSchema()"
   ]
  },
  {
   "cell_type": "code",
   "execution_count": 44,
   "metadata": {},
   "outputs": [
    {
     "name": "stdout",
     "output_type": "stream",
     "text": [
      "+-----+--------------------------------------------------------------------------------------------------------------------------------------+----------+\n",
      "|label|tweet                                                                                                                                 |prediction|\n",
      "+-----+--------------------------------------------------------------------------------------------------------------------------------------+----------+\n",
      "|0.0  |# @rockchic aw poor you hope its not oinkflu                                                                                          |0.0       |\n",
      "|0.0  |# cough # runny nose or stuffy nose # sore throat # body aches # headache more and i would have flu                                   |0.0       |\n",
      "|0.0  |# todays weather sucks and its perfect close pleaseeee i hope they dont keep my on call                                               |0.0       |\n",
      "|0.0  |###@ i hate the dentist i dont want to go                                                                                             |0.0       |\n",
      "|0.0  |#@ airlines they left my bag @ ewr amp with a hr connection                                                                           |0.0       |\n",
      "|0.0  |#@ get ready for d new semester sigh going back to campus tomorrow #fb                                                                |0.0       |\n",
      "|0.0  |#@ my nose stud fell out and i cant find it looks like ill have to head into amsterdam today and get a new one                        |0.0       |\n",
      "|0.0  |#@amp cant sleep two baseball games in the mourning shoot me now                                                                      |0.0       |\n",
      "|0.0  |#aaah git is driving me crazy                                                                                                         |1.0       |\n",
      "|0.0  |#acdc iam obviously shit                                                                                                              |1.0       |\n",
      "|0.0  |#addictedto high heels that i cant even walk in                                                                                       |0.0       |\n",
      "|0.0  |#air france i think they got abducted by aliens                                                                                       |0.0       |\n",
      "|0.0  |#air france so sad                                                                                                                    |0.0       |\n",
      "|0.0  |#alchemilla show tonight canceled sad and sorry                                                                                       |0.0       |\n",
      "|0.0  |#amazon #fail i decided to buy some mp downloads from @amazonmp this morning with a gift certificate it just charged me without asking|0.0       |\n",
      "|0.0  |#amp@ its june bug season again                                                                                                       |0.0       |\n",
      "|0.0  |#ampiranelection i am a muslim turk living in st louis mo and i will pray for the victims                                             |1.0       |\n",
      "|0.0  |#angelsanddemons if you like the book avoid the movieentire major characters are missing disappointed                                 |0.0       |\n",
      "|0.0  |#apprentice kicks off and now the missus wants chocolate if it wasnt chucking it down i may have considered driving off to get some   |0.0       |\n",
      "|0.0  |#armywives poor poor denise sad but she had i coming                                                                                  |0.0       |\n",
      "+-----+--------------------------------------------------------------------------------------------------------------------------------------+----------+\n",
      "only showing top 20 rows\n",
      "\n"
     ]
    }
   ],
   "source": [
    "# Display the first few rows of predictions\n",
    "predictions.select('label', 'tweet', 'prediction').show(20, truncate=False)"
   ]
  },
  {
   "cell_type": "code",
   "execution_count": 45,
   "metadata": {},
   "outputs": [],
   "source": [
    "# Dừng Spark Session\n",
    "spark.stop()"
   ]
  }
 ],
 "metadata": {
  "kernelspec": {
   "display_name": "Python 3 (ipykernel)",
   "language": "python",
   "name": "python3"
  },
  "language_info": {
   "codemirror_mode": {
    "name": "ipython",
    "version": 3
   },
   "file_extension": ".py",
   "mimetype": "text/x-python",
   "name": "python",
   "nbconvert_exporter": "python",
   "pygments_lexer": "ipython3",
   "version": "3.11.6"
  }
 },
 "nbformat": 4,
 "nbformat_minor": 2
}
