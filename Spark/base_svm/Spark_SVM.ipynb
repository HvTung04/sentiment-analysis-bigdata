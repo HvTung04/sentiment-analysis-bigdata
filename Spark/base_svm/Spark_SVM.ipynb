{
 "cells": [
  {
   "cell_type": "markdown",
   "metadata": {},
   "source": [
    "# Import thư viện"
   ]
  },
  {
   "cell_type": "code",
   "execution_count": 1,
   "metadata": {},
   "outputs": [],
   "source": [
    "# Import libraries\n",
    "from pyspark.sql import SparkSession\n",
    "from pyspark.ml.feature import Tokenizer, HashingTF, IDF\n",
    "from pyspark.ml.classification import LinearSVC\n",
    "from pyspark.ml.evaluation import MulticlassClassificationEvaluator\n",
    "from pyspark.mllib.evaluation import MulticlassMetrics\n",
    "import time\n",
    "import re\n",
    "import os\n",
    "import random"
   ]
  },
  {
   "cell_type": "code",
   "execution_count": 2,
   "metadata": {},
   "outputs": [],
   "source": [
    "# Create Spark Session\n",
    "spark = SparkSession.builder \\\n",
    "    .appName(\"Support Vector Machines\") \\\n",
    "    .master(\"local[*]\") \\\n",
    "    .getOrCreate()"
   ]
  },
  {
   "cell_type": "markdown",
   "metadata": {},
   "source": [
    "# Tiền xử lý"
   ]
  },
  {
   "cell_type": "code",
   "execution_count": 3,
   "metadata": {},
   "outputs": [],
   "source": [
    "# Preprocessing CSV file\n",
    "def split_csv(line):\n",
    "    columns = line.split(\",\")\n",
    "    if len(columns) > 4:\n",
    "        columns[3] = \",\".join(columns[3:])\n",
    "    return columns[:4]"
   ]
  },
  {
   "cell_type": "code",
   "execution_count": 4,
   "metadata": {},
   "outputs": [],
   "source": [
    "# Cleaning text\n",
    "def clean_text(text):\n",
    "    # Remove URLs using a comprehensive regex\n",
    "    text = re.sub(r'http[s]?://(?:[a-zA-Z]|[0-9]|[$-_@.&+]|[!*\\\\(\\\\),]|(?:%[0-9a-fA-F][0-9a-fA-F]))+', '', text)\n",
    "\n",
    "    # Remove excessive punctuation (multiple consecutive special characters)\n",
    "    text = re.sub(r'\\?{2,}', ' ', text)\n",
    "\n",
    "    # Remove numbers\n",
    "    text = re.sub(r'\\d+', '', text)\n",
    "\n",
    "    # Keep mentions and hashtags, remove other special characters\n",
    "    text = re.sub(r'[^\\w\\s@#]', '', text)\n",
    "\n",
    "    # Convert to lowercase\n",
    "    text = text.lower()\n",
    "\n",
    "    # Remove extra whitespace\n",
    "    text = re.sub(r'\\s+', ' ', text).strip()\n",
    "\n",
    "    return text"
   ]
  },
  {
   "cell_type": "markdown",
   "metadata": {},
   "source": [
    "# Đọc dữ liệu"
   ]
  },
  {
   "cell_type": "code",
   "execution_count": 5,
   "metadata": {},
   "outputs": [
    {
     "name": "stdout",
     "output_type": "stream",
     "text": [
      "Đường dẫn file: /home/jovyan/input/spark_input_10/tweets.csv\n"
     ]
    }
   ],
   "source": [
    "# Random số từ 1-10\n",
    "input_num = random.randint(1, 10)\n",
    "input_path = os.path.join(os.getcwd(), f\"input/spark_input_{input_num}/tweets.csv\")\n",
    "print(\"Đường dẫn file:\", input_path)"
   ]
  },
  {
   "cell_type": "code",
   "execution_count": 6,
   "metadata": {},
   "outputs": [
    {
     "name": "stdout",
     "output_type": "stream",
     "text": [
      "\n",
      "Thông tin về DataFrame:\n",
      "- Số lượng dòng: 1000000\n",
      "- Schema:\n",
      "root\n",
      " |-- label: double (nullable = false)\n",
      " |-- tweet: string (nullable = false)\n",
      "\n",
      "\n",
      "Mẫu 5 dòng đầu tiên:\n",
      "+-----+-----------------------------------------------------------------------------------------------------+\n",
      "|label|tweet                                                                                                |\n",
      "+-----+-----------------------------------------------------------------------------------------------------+\n",
      "|0.0  |is so sad for my apl friend                                                                          |\n",
      "|0.0  |i missed the new moon trailer                                                                        |\n",
      "|1.0  |omg its already o                                                                                    |\n",
      "|0.0  |omgaga im sooo im gunna cry ive been at this dentist since i was suposed just get a crown put on mins|\n",
      "|0.0  |i think mi bf is cheating on me t_t                                                                  |\n",
      "+-----+-----------------------------------------------------------------------------------------------------+\n",
      "only showing top 5 rows\n",
      "\n",
      "\n",
      "Phân bố nhãn sentiment:\n",
      "+-----+------+\n",
      "|label| count|\n",
      "+-----+------+\n",
      "|  0.0|468646|\n",
      "|  1.0|531354|\n",
      "+-----+------+\n",
      "\n"
     ]
    }
   ],
   "source": [
    "# Read data\n",
    "rdd = spark.sparkContext.textFile(input_path) \\\n",
    "    .map(split_csv) \\\n",
    "    .map(lambda columns: (\n",
    "        float(columns[1]),  # Sentiment\n",
    "        clean_text(columns[3])  # Tweet text cleaned\n",
    "    ))\n",
    "\n",
    "# Convert RDD to DataFrame\n",
    "from pyspark.sql.types import StructType, StructField, DoubleType, StringType\n",
    "schema = StructType([\n",
    "    StructField(\"label\", DoubleType(), False),\n",
    "    StructField(\"tweet\", StringType(), False)\n",
    "])\n",
    "\n",
    "df = spark.createDataFrame(rdd, schema)\n",
    "    \n",
    "# In ra một số thông tin về DataFrame để kiểm tra\n",
    "print(\"\\nThông tin về DataFrame:\")\n",
    "print(\"- Số lượng dòng:\", df.count())\n",
    "print(\"- Schema:\")\n",
    "df.printSchema()\n",
    "\n",
    "print(\"\\nMẫu 5 dòng đầu tiên:\")\n",
    "df.show(5, truncate=False)\n",
    "\n",
    "# Thống kê phân bố nhãn\n",
    "print(\"\\nPhân bố nhãn sentiment:\")\n",
    "df.groupBy(\"label\").count().orderBy(\"label\").show()\n"
   ]
  },
  {
   "cell_type": "code",
   "execution_count": 7,
   "metadata": {},
   "outputs": [],
   "source": [
    "# Áp dụng TF-IDF\n",
    "# 1. Tokenization\n",
    "tokenizer = Tokenizer(inputCol=\"tweet\", outputCol=\"words\")\n",
    "words_data = tokenizer.transform(df)\n",
    "\n",
    "# 2. TF (Term Frequency)\n",
    "hashingTF = HashingTF(inputCol=\"words\", outputCol=\"rawFeatures\")\n",
    "featurized_data = hashingTF.transform(words_data)\n",
    "\n",
    "# 3. IDF\n",
    "idf = IDF(inputCol=\"rawFeatures\", outputCol=\"features\")\n",
    "idf_model = idf.fit(featurized_data)\n",
    "rescaled_data = idf_model.transform(featurized_data)"
   ]
  },
  {
   "cell_type": "code",
   "execution_count": 8,
   "metadata": {},
   "outputs": [
    {
     "name": "stdout",
     "output_type": "stream",
     "text": [
      "+-----+------------------------------------------------------------------------------------------------------------------------------+---------------------------------------------------------------------------------------------------------------------------------------------------------+--------------------------------------------------------------------------------------------------------------------------------------------------------------------------------------------------------------------------------------------------------------------------------------+-------------------------------------------------------------------------------------------------------------------------------------------------------------------------------------------------------------------------------------------------------------------------------------------------------------------------------------------------------------------------------------------------------------------------------------------------------------------------------------------------------------------------------------------------------------------------------------------------------------------------------------------------------------+\n",
      "|label|tweet                                                                                                                         |words                                                                                                                                                    |rawFeatures                                                                                                                                                                                                                                                                           |features                                                                                                                                                                                                                                                                                                                                                                                                                                                                                                                                                                                                                                                     |\n",
      "+-----+------------------------------------------------------------------------------------------------------------------------------+---------------------------------------------------------------------------------------------------------------------------------------------------------+--------------------------------------------------------------------------------------------------------------------------------------------------------------------------------------------------------------------------------------------------------------------------------------+-------------------------------------------------------------------------------------------------------------------------------------------------------------------------------------------------------------------------------------------------------------------------------------------------------------------------------------------------------------------------------------------------------------------------------------------------------------------------------------------------------------------------------------------------------------------------------------------------------------------------------------------------------------+\n",
      "|0.0  |is so sad for my apl friend                                                                                                   |[is, so, sad, for, my, apl, friend]                                                                                                                      |(262144,[74520,74989,106776,106841,117491,125638,240944],[1.0,1.0,1.0,1.0,1.0,1.0,1.0])                                                                                                                                                                                               |(262144,[74520,74989,106776,106841,117491,125638,240944],[5.053178517361431,12.429217196843883,2.0999636670334367,2.0424936379011336,2.475369284968806,4.13186053098436,1.9013766942509025])                                                                                                                                                                                                                                                                                                                                                                                                                                                                 |\n",
      "|0.0  |i missed the new moon trailer                                                                                                 |[i, missed, the, new, moon, trailer]                                                                                                                     |(262144,[19036,64344,89833,95889,165360,201103],[1.0,1.0,1.0,1.0,1.0,1.0])                                                                                                                                                                                                            |(262144,[19036,64344,89833,95889,165360,201103],[0.9593245016910749,7.3354669960371215,3.8287404012909088,1.355630374808597,4.974497247479882,6.6515648736212265])                                                                                                                                                                                                                                                                                                                                                                                                                                                                                           |\n",
      "|1.0  |omg its already o                                                                                                             |[omg, its, already, o]                                                                                                                                   |(262144,[2306,83580,140315,172914],[1.0,1.0,1.0,1.0])                                                                                                                                                                                                                                 |(262144,[2306,83580,140315,172914],[4.683132727457303,5.648443379622536,2.689234353644505,5.247435156232967])                                                                                                                                                                                                                                                                                                                                                                                                                                                                                                                                                |\n",
      "|0.0  |omgaga im sooo im gunna cry ive been at this dentist since i was suposed just get a crown put on mins                         |[omgaga, im, sooo, im, gunna, cry, ive, been, at, this, dentist, since, i, was, suposed, just, get, a, crown, put, on, mins]                             |(262144,[19036,31015,36755,67416,77751,95197,97171,99211,105689,107107,108541,133134,150152,187114,204967,227008,227431,233967,247479,252722,261626],[1.0,2.0,1.0,1.0,1.0,1.0,1.0,1.0,1.0,1.0,1.0,1.0,1.0,1.0,1.0,1.0,1.0,1.0,1.0,1.0,1.0])                                           |(262144,[19036,31015,36755,67416,77751,95197,97171,99211,105689,107107,108541,133134,150152,187114,204967,227008,227431,233967,247479,252722,261626],[0.9593245016910749,4.382769337405433,9.282912064810517,2.3708435206998697,5.269536565122085,12.206073645529674,2.6139872520659195,2.798473844395329,6.663242701931235,1.575071302713177,2.9927577049519622,5.7180852593665605,4.151868748465267,2.7577405193890754,7.318736567777911,10.48330704778857,3.8346463844063017,5.128238096175936,7.243229015269766,2.978876156487068,5.947640067567453])                                                                                                    |\n",
      "|0.0  |i think mi bf is cheating on me t_t                                                                                           |[i, think, mi, bf, is, cheating, on, me, t_t]                                                                                                            |(262144,[19036,50001,67416,95227,106841,153423,174986,225606,245456],[1.0,1.0,1.0,1.0,1.0,1.0,1.0,1.0,1.0])                                                                                                                                                                           |(262144,[19036,50001,67416,95227,106841,153423,174986,225606,245456],[0.9593245016910749,2.35153476972543,2.3708435206998697,7.542634551417606,2.0424936379011336,3.5793088176841454,7.261578153937963,9.315701887633509,8.881037624833082])                                                                                                                                                                                                                                                                                                                                                                                                                 |\n",
      "|0.0  |or i just worry too much                                                                                                      |[or, i, just, worry, too, much]                                                                                                                          |(262144,[5923,19036,76764,97171,117975,119453],[1.0,1.0,1.0,1.0,1.0,1.0])                                                                                                                                                                                                             |(262144,[5923,19036,76764,97171,117975,119453],[3.1151476391052237,0.9593245016910749,3.7909574774482024,2.6139872520659195,6.293652305762144,3.88908903414515])                                                                                                                                                                                                                                                                                                                                                                                                                                                                                             |\n",
      "|1.0  |juuuuuuuuuuuuuuuuussssst chillin                                                                                              |[juuuuuuuuuuuuuuuuussssst, chillin]                                                                                                                      |(262144,[186398,243823],[1.0,1.0])                                                                                                                                                                                                                                                    |(262144,[186398,243823],[12.716899269295665,6.840097630507822])                                                                                                                                                                                                                                                                                                                                                                                                                                                                                                                                                                                              |\n",
      "|0.0  |sunny again work tomorrow tv tonight                                                                                          |[sunny, again, work, tomorrow, tv, tonight]                                                                                                              |(262144,[27139,29129,34343,45843,73853,108846],[1.0,1.0,1.0,1.0,1.0,1.0])                                                                                                                                                                                                             |(262144,[27139,29129,34343,45843,73853,108846],[5.734345780238341,4.064942111852359,3.412127891754382,4.119540300856157,4.331866981481766,6.072241857134769])                                                                                                                                                                                                                                                                                                                                                                                                                                                                                                |\n",
      "|1.0  |handed in my uniform today i miss you already                                                                                 |[handed, in, my, uniform, today, i, miss, you, already]                                                                                                  |(262144,[2306,19036,64238,210343,214962,221027,232735,240944,250855],[1.0,1.0,1.0,1.0,1.0,1.0,1.0,1.0,1.0])                                                                                                                                                                           |(262144,[2306,19036,64238,210343,214962,221027,232735,240944,250855],[4.683132727457303,0.9593245016910749,3.432348549453951,8.963481294044158,1.7379486489903992,9.282912064810517,3.7855675814750867,1.9013766942509025,2.112007056552736])                                                                                                                                                                                                                                                                                                                                                                                                                |\n",
      "|1.0  |hmmmm i wonder how she my number @                                                                                            |[hmmmm, i, wonder, how, she, my, number, @]                                                                                                              |(262144,[19036,45176,131641,135239,197443,211980,240944,257267],[1.0,1.0,1.0,1.0,1.0,1.0,1.0,1.0])                                                                                                                                                                                    |(262144,[19036,45176,131641,135239,197443,211980,240944,257267],[0.9593245016910749,4.972329459941169,8.213392737084073,6.538955155245064,3.5603113533187285,4.406976280037346,1.9013766942509025,6.362529228498314])                                                                                                                                                                                                                                                                                                                                                                                                                                        |\n",
      "|0.0  |i must think about positive                                                                                                   |[i, must, think, about, positive]                                                                                                                        |(262144,[18700,19036,153423,162801,229407],[1.0,1.0,1.0,1.0,1.0])                                                                                                                                                                                                                     |(262144,[18700,19036,153423,162801,229407],[3.4303388714080727,0.9593245016910749,3.5793088176841454,7.227961543138978,5.2548758087047])                                                                                                                                                                                                                                                                                                                                                                                                                                                                                                                     |\n",
      "|1.0  |thanks to all the haters up in my face all day                                                                                |[thanks, to, all, the, haters, up, in, my, face, all, day]                                                                                               |(262144,[27576,42404,61094,64358,77767,95889,240944,247394,250855,254061],[1.0,2.0,1.0,1.0,1.0,1.0,1.0,1.0,1.0,1.0])                                                                                                                                                                  |(262144,[27576,42404,61094,64358,77767,95889,240944,247394,250855,254061],[1.2872068735724156,6.082549441047738,8.656456258749245,3.500146169547292,3.030304014603686,1.355630374808597,1.9013766942509025,5.765127104896753,2.112007056552736,3.1091035597257983])                                                                                                                                                                                                                                                                                                                                                                                          |\n",
      "|0.0  |this weekend has sucked so far                                                                                                |[this, weekend, has, sucked, so, far]                                                                                                                    |(262144,[108541,117491,132786,138837,165678,173532],[1.0,1.0,1.0,1.0,1.0,1.0])                                                                                                                                                                                                        |(262144,[108541,117491,132786,138837,165678,173532],[2.9927577049519622,2.475369284968806,4.003152938838748,4.611189258313154,5.382134852640648,7.669182300294877])                                                                                                                                                                                                                                                                                                                                                                                                                                                                                          |\n",
      "|0.0  |jb isnt showing in australia any more                                                                                         |[jb, isnt, showing, in, australia, any, more]                                                                                                            |(262144,[2284,28319,77053,86617,156404,239029,250855],[1.0,1.0,1.0,1.0,1.0,1.0,1.0])                                                                                                                                                                                                  |(262144,[2284,28319,77053,86617,156404,239029,250855],[6.843842953237984,7.392264594430254,4.571639702778799,7.2238378259551155,5.1476594902624235,3.840634009340973,2.112007056552736])                                                                                                                                                                                                                                                                                                                                                                                                                                                                     |\n",
      "|0.0  |ok thats it you win                                                                                                           |[ok, thats, it, you, win]                                                                                                                                |(262144,[10345,30950,77886,198197,214962],[1.0,1.0,1.0,1.0,1.0])                                                                                                                                                                                                                      |(262144,[10345,30950,77886,198197,214962],[3.768140135099068,1.9659495841514671,5.5999641460167044,4.765105223903917,1.7379486489903992])                                                                                                                                                                                                                                                                                                                                                                                                                                                                                                                    |\n",
      "|0.0  |lt this is the way i feel right now                                                                                           |[lt, this, is, the, way, i, feel, right, now]                                                                                                            |(262144,[19036,51471,61899,82671,95889,106841,108541,147738,229166],[1.0,1.0,1.0,1.0,1.0,1.0,1.0,1.0,1.0])                                                                                                                                                                            |(262144,[19036,51471,61899,82671,95889,106841,108541,147738,229166],[0.9593245016910749,4.296437266839199,3.9787515874783557,4.846606007274053,1.355630374808597,2.0424936379011336,2.9927577049519622,2.968526750315305,4.05722320291985])                                                                                                                                                                                                                                                                                                                                                                                                                  |\n",
      "|0.0  |awhhe man im completely useless rt now funny all i can do is twitter                                                          |[awhhe, man, im, completely, useless, rt, now, funny, all, i, can, do, is, twitter]                                                                      |(262144,[1512,19036,31015,42404,77407,106841,108437,109753,115994,133891,147738,181839,194194,257091],[1.0,1.0,1.0,1.0,1.0,1.0,1.0,1.0,1.0,1.0,1.0,1.0,1.0,1.0])                                                                                                                      |(262144,[1512,19036,31015,42404,77407,106841,108437,109753,115994,133891,147738,181839,194194,257091],[4.046355718222938,0.9593245016910749,2.1913846687027165,3.041274720523869,8.522206733239281,2.0424936379011336,3.45672166247231,4.825942553156746,3.1842821801032017,11.107461356861563,2.968526750315305,8.135338948946707,5.306955559943201,6.7473395575757324])                                                                                                                                                                                                                                                                                    |\n",
      "|1.0  |feeling strangely fine now im gonna go listen to some semisonic to celebrate                                                  |[feeling, strangely, fine, now, im, gonna, go, listen, to, some, semisonic, to, celebrate]                                                               |(262144,[15392,16641,19208,27576,31015,81672,128317,137733,147738,148675,187668,245951],[1.0,1.0,1.0,2.0,1.0,1.0,1.0,1.0,1.0,1.0,1.0,1.0])                                                                                                                                            |(262144,[15392,16641,19208,27576,31015,81672,128317,137733,147738,148675,187668,245951],[9.446063705496753,9.8265275113995,3.6184965505603466,2.574413747144831,2.1913846687027165,4.268413275889218,6.129808496729226,4.734482922467931,2.968526750315305,3.1767756488490653,7.475152254236022,5.713530826110581])                                                                                                                                                                                                                                                                                                                                          |\n",
      "|0.0  |huge roll of thunder just nowso scary                                                                                         |[huge, roll, of, thunder, just, nowso, scary]                                                                                                            |(262144,[45190,68892,97171,142514,187674,219087,237198],[1.0,1.0,1.0,1.0,1.0,1.0,1.0])                                                                                                                                                                                                |(262144,[45190,68892,97171,142514,187674,219087,237198],[6.387178363772968,10.819779284409783,2.6139872520659195,7.596911438272045,7.267292455201401,2.2708064576575198,6.732962988608474])                                                                                                                                                                                                                                                                                                                                                                                                                                                                  |\n",
      "|0.0  |i just cut my beard off its only been growing for well over a year im gonna start it over @shaunamanu is happy in the meantime|[i, just, cut, my, beard, off, its, only, been, growing, for, well, over, a, year, im, gonna, start, it, over, @shaunamanu, is, happy, in, the, meantime]|(262144,[9056,16004,19036,30950,31015,81672,95889,97171,102006,106776,106841,107107,140315,141444,179832,181635,183374,183411,186925,221315,227431,237246,237631,240944,250855],[1.0,1.0,1.0,1.0,1.0,1.0,1.0,1.0,1.0,1.0,1.0,1.0,1.0,1.0,2.0,1.0,1.0,1.0,1.0,1.0,1.0,1.0,1.0,1.0,1.0])|(262144,[9056,16004,19036,30950,31015,81672,95889,97171,102006,106776,106841,107107,140315,141444,179832,181635,183374,183411,186925,221315,227431,237246,237631,240944,250855],[4.054451998559924,5.141656556534159,0.9593245016910749,1.9659495841514671,2.1913846687027165,4.268413275889218,1.355630374808597,2.6139872520659195,6.211115209167436,2.0999636670334367,2.0424936379011336,1.575071302713177,2.689234353644505,7.772878724281393,8.708202464065085,4.073896085354192,9.421062403291335,4.122806767043636,3.5702089243959376,5.055058511648503,3.8346463844063017,8.971324471505183,11.86960140890846,1.9013766942509025,2.112007056552736])|\n",
      "+-----+------------------------------------------------------------------------------------------------------------------------------+---------------------------------------------------------------------------------------------------------------------------------------------------------+--------------------------------------------------------------------------------------------------------------------------------------------------------------------------------------------------------------------------------------------------------------------------------------+-------------------------------------------------------------------------------------------------------------------------------------------------------------------------------------------------------------------------------------------------------------------------------------------------------------------------------------------------------------------------------------------------------------------------------------------------------------------------------------------------------------------------------------------------------------------------------------------------------------------------------------------------------------+\n",
      "only showing top 20 rows\n",
      "\n"
     ]
    }
   ],
   "source": [
    "rescaled_data.show(20, truncate=False)"
   ]
  },
  {
   "cell_type": "code",
   "execution_count": 9,
   "metadata": {},
   "outputs": [
    {
     "name": "stdout",
     "output_type": "stream",
     "text": [
      "+-----+-----+-----+-----------+--------+\n",
      "|label|tweet|words|rawFeatures|features|\n",
      "+-----+-----+-----+-----------+--------+\n",
      "+-----+-----+-----+-----------+--------+\n",
      "\n"
     ]
    },
    {
     "data": {
      "text/plain": [
       "0"
      ]
     },
     "execution_count": 9,
     "metadata": {},
     "output_type": "execute_result"
    }
   ],
   "source": [
    "# Check empty tweets\n",
    "rescaled_data.filter(rescaled_data[\"tweet\"] == \"\").show(10, truncate=False)\n",
    "# Check null words\n",
    "rescaled_data.filter(rescaled_data[\"words\"].isNull()).count()"
   ]
  },
  {
   "cell_type": "code",
   "execution_count": 10,
   "metadata": {},
   "outputs": [],
   "source": [
    "# Chia training/test\n",
    "test_size = 0.25\n",
    "\n",
    "training_data, test_data = rescaled_data.randomSplit([1 - test_size, test_size], seed=1234)"
   ]
  },
  {
   "cell_type": "code",
   "execution_count": 11,
   "metadata": {},
   "outputs": [],
   "source": [
    "# Huấn luyện mô hình SVM\n",
    "start_time = time.time()\n",
    "\n",
    "lsvc = LinearSVC(maxIter=10, regParam=0.1)\n",
    "model = lsvc.fit(training_data)\n",
    "\n",
    "# Dự đoán\n",
    "predictions = model.transform(test_data)"
   ]
  },
  {
   "cell_type": "code",
   "execution_count": 12,
   "metadata": {},
   "outputs": [
    {
     "name": "stderr",
     "output_type": "stream",
     "text": [
      "/usr/local/spark/python/pyspark/sql/context.py:158: FutureWarning: Deprecated in 3.0.0. Use SparkSession.builder.getOrCreate() instead.\n",
      "  warnings.warn(\n"
     ]
    },
    {
     "name": "stdout",
     "output_type": "stream",
     "text": [
      "Confusion Matrix:\n",
      "DenseMatrix([[ 84789.,  32107.],\n",
      "             [ 29027., 103880.]])\n",
      "Accuracy: 0.7552711536690913\n",
      "F1 Score: 0.7550391935829374\n",
      "Training time: 75.82 seconds\n"
     ]
    }
   ],
   "source": [
    "# Đánh giá\n",
    "evaluator = MulticlassClassificationEvaluator(\n",
    "    labelCol=\"label\", \n",
    "    predictionCol=\"prediction\", \n",
    "    metricName=\"accuracy\"\n",
    ")\n",
    "\n",
    "accuracy = evaluator.evaluate(predictions)\n",
    "\n",
    "# Tính F1-score\n",
    "prediction_and_labels = predictions.select(\"prediction\", \"label\").rdd.map(\n",
    "    lambda row: (float(row['prediction']), float(row['label']))\n",
    ")\n",
    "metrics = MulticlassMetrics(prediction_and_labels)\n",
    "\n",
    "# In kết quả\n",
    "print(\"Confusion Matrix:\")\n",
    "print(metrics.confusionMatrix())\n",
    "print(f\"Accuracy: {accuracy}\")\n",
    "print(f\"F1 Score: {metrics.weightedFMeasure()}\")\n",
    "print(f\"Training time: {time.time() - start_time:.2f} seconds\")"
   ]
  },
  {
   "cell_type": "code",
   "execution_count": 13,
   "metadata": {},
   "outputs": [
    {
     "name": "stdout",
     "output_type": "stream",
     "text": [
      "root\n",
      " |-- label: double (nullable = false)\n",
      " |-- tweet: string (nullable = false)\n",
      " |-- words: array (nullable = true)\n",
      " |    |-- element: string (containsNull = true)\n",
      " |-- rawFeatures: vector (nullable = true)\n",
      " |-- features: vector (nullable = true)\n",
      " |-- rawPrediction: vector (nullable = true)\n",
      " |-- prediction: double (nullable = false)\n",
      "\n"
     ]
    }
   ],
   "source": [
    "predictions.printSchema()"
   ]
  },
  {
   "cell_type": "code",
   "execution_count": 14,
   "metadata": {},
   "outputs": [
    {
     "name": "stdout",
     "output_type": "stream",
     "text": [
      "+-----+--------------------------------------------------------------------------------------------------------------------------------------+----------+\n",
      "|label|tweet                                                                                                                                 |prediction|\n",
      "+-----+--------------------------------------------------------------------------------------------------------------------------------------+----------+\n",
      "|0.0  |# @rockchic aw poor you hope its not oinkflu                                                                                          |0.0       |\n",
      "|0.0  |# cough # runny nose or stuffy nose # sore throat # body aches # headache more and i would have flu                                   |0.0       |\n",
      "|0.0  |# todays weather sucks and its perfect close pleaseeee i hope they dont keep my on call                                               |0.0       |\n",
      "|0.0  |###@ i hate the dentist i dont want to go                                                                                             |0.0       |\n",
      "|0.0  |#@ airlines they left my bag @ ewr amp with a hr connection                                                                           |1.0       |\n",
      "|0.0  |#@ get ready for d new semester sigh going back to campus tomorrow #fb                                                                |0.0       |\n",
      "|0.0  |#@ my nose stud fell out and i cant find it looks like ill have to head into amsterdam today and get a new one                        |0.0       |\n",
      "|0.0  |#@amp cant sleep two baseball games in the mourning shoot me now                                                                      |0.0       |\n",
      "|0.0  |#a #airfranceflight                                                                                                                   |0.0       |\n",
      "|0.0  |#aaah git is driving me crazy                                                                                                         |1.0       |\n",
      "|0.0  |#addictedto cursing ugh its a horrid habbit                                                                                           |0.0       |\n",
      "|0.0  |#air france confirms captain amp one cabin crew of #af have been identified hope they may have a swift journey home to their families |0.0       |\n",
      "|0.0  |#air france my heart just breaks for those families bodies found                                                                      |0.0       |\n",
      "|0.0  |#ajax #php just thinking about a concept of autorefresh @varun_chander made a mistake here                                            |1.0       |\n",
      "|0.0  |#amazeballs something else i should know but dont                                                                                     |0.0       |\n",
      "|0.0  |#amazon #fail i decided to buy some mp downloads from @amazonmp this morning with a gift certificate it just charged me without asking|1.0       |\n",
      "|0.0  |#amp@ its june bug season again                                                                                                       |0.0       |\n",
      "|0.0  |#anewday at home me means ho pot of coffee and food intake                                                                            |1.0       |\n",
      "|0.0  |#api testing api doesnt work anymore                                                                                                  |0.0       |\n",
      "|0.0  |#apprentice oh im embarrassed poor thing                                                                                              |0.0       |\n",
      "+-----+--------------------------------------------------------------------------------------------------------------------------------------+----------+\n",
      "only showing top 20 rows\n",
      "\n"
     ]
    }
   ],
   "source": [
    "# Display the first few rows of predictions\n",
    "predictions.select('label', 'tweet', 'prediction').show(20, truncate=False)"
   ]
  },
  {
   "cell_type": "code",
   "execution_count": 15,
   "metadata": {},
   "outputs": [],
   "source": [
    "# Dừng Spark Session\n",
    "spark.stop()"
   ]
  }
 ],
 "metadata": {
  "kernelspec": {
   "display_name": "Python 3 (ipykernel)",
   "language": "python",
   "name": "python3"
  },
  "language_info": {
   "codemirror_mode": {
    "name": "ipython",
    "version": 3
   },
   "file_extension": ".py",
   "mimetype": "text/x-python",
   "name": "python",
   "nbconvert_exporter": "python",
   "pygments_lexer": "ipython3",
   "version": "3.11.6"
  }
 },
 "nbformat": 4,
 "nbformat_minor": 2
}
